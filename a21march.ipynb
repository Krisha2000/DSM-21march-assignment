{
 "cells": [
  {
   "cell_type": "markdown",
   "id": "e8358c1b-d0d2-4cde-949c-6ec2a4c985fe",
   "metadata": {},
   "source": [
    "# Quetion : 1"
   ]
  },
  {
   "cell_type": "markdown",
   "id": "14e13ca5-acf6-4b4e-bf30-191bc83365ac",
   "metadata": {},
   "source": [
    " Ordinal Encoding is used when the categories of a categorical variable have a natural order, whereas Label Encoding is used when there is no inherent ordering. For example, if we have a categorical variable \"Education level\" with categories \"High School\", \"Bachelor's\", \"Master's\", and \"PhD\", we would use Ordinal Encoding because there is a clear order to the categories. However, if we have a categorical variable \"Color\" with categories \"Red\", \"Green\", and \"Blue\", we would use Label Encoding because there is no inherent order to the colors."
   ]
  },
  {
   "cell_type": "markdown",
   "id": "b5baf138-2404-408a-9351-41e4f147f3eb",
   "metadata": {},
   "source": [
    "# Quetion : 2"
   ]
  },
  {
   "cell_type": "markdown",
   "id": "3e843add-f815-4128-97f7-b86a117485da",
   "metadata": {},
   "source": [
    " Target Guided Ordinal Encoding is a technique where we use the target variable to assign ranks to the categories of a categorical variable. For example, if we have a categorical variable \"City\" with categories \"New York\", \"Los Angeles\", and \"Chicago\", and we are trying to predict the price of a house in each city, we can use the median price of houses in each city to assign a rank to each category. We would then replace the category with its rank. Target Guided Ordinal Encoding is useful when the categorical variable is strongly correlated with the target variable and has a monotonic relationship with it."
   ]
  },
  {
   "cell_type": "markdown",
   "id": "986d118e-18ba-41a2-9c6a-7968bdbd2882",
   "metadata": {},
   "source": [
    "# Quetion : 3"
   ]
  },
  {
   "cell_type": "markdown",
   "id": "063666f7-ccb3-4d7c-af17-6b7616db0e6d",
   "metadata": {},
   "source": [
    "Covariance is a measure of the degree of association between two variables. It indicates how much two variables change together, and in what direction. Covariance is important in statistical analysis because it helps us understand the relationship between variables and can be used to make predictions. Covariance is calculated by taking the product of the deviations of each variable from its mean, and then dividing by the sample size."
   ]
  },
  {
   "cell_type": "markdown",
   "id": "53524e63-b86d-4afb-8c2f-d755301ec21e",
   "metadata": {},
   "source": [
    "# Quetion : 4"
   ]
  },
  {
   "cell_type": "code",
   "execution_count": 1,
   "id": "ca4dfb36-82fb-47dd-b0dc-1bdf5d9aeb00",
   "metadata": {},
   "outputs": [],
   "source": [
    "import pandas as pd\n",
    "data = {'Color': ['red', 'green', 'blue', 'red', 'green', 'blue'],\n",
    "        'Size': ['small', 'medium', 'large', 'medium', 'small', 'large'],\n",
    "        'Material': ['wood', 'metal', 'plastic', 'plastic', 'wood', 'metal']}\n",
    "\n",
    "df = pd.DataFrame(data)\n",
    "from sklearn.preprocessing import LabelEncoder\n",
    "lbl_encoder=LabelEncoder()\n"
   ]
  },
  {
   "cell_type": "code",
   "execution_count": 3,
   "id": "ee3f51c3-727a-4104-9805-1a79a5b8ee0e",
   "metadata": {},
   "outputs": [
    {
     "data": {
      "text/html": [
       "<div>\n",
       "<style scoped>\n",
       "    .dataframe tbody tr th:only-of-type {\n",
       "        vertical-align: middle;\n",
       "    }\n",
       "\n",
       "    .dataframe tbody tr th {\n",
       "        vertical-align: top;\n",
       "    }\n",
       "\n",
       "    .dataframe thead th {\n",
       "        text-align: right;\n",
       "    }\n",
       "</style>\n",
       "<table border=\"1\" class=\"dataframe\">\n",
       "  <thead>\n",
       "    <tr style=\"text-align: right;\">\n",
       "      <th></th>\n",
       "      <th>Color</th>\n",
       "      <th>Size</th>\n",
       "      <th>Material</th>\n",
       "    </tr>\n",
       "  </thead>\n",
       "  <tbody>\n",
       "    <tr>\n",
       "      <th>0</th>\n",
       "      <td>2</td>\n",
       "      <td>2</td>\n",
       "      <td>2</td>\n",
       "    </tr>\n",
       "    <tr>\n",
       "      <th>1</th>\n",
       "      <td>1</td>\n",
       "      <td>1</td>\n",
       "      <td>0</td>\n",
       "    </tr>\n",
       "    <tr>\n",
       "      <th>2</th>\n",
       "      <td>0</td>\n",
       "      <td>0</td>\n",
       "      <td>1</td>\n",
       "    </tr>\n",
       "    <tr>\n",
       "      <th>3</th>\n",
       "      <td>2</td>\n",
       "      <td>1</td>\n",
       "      <td>1</td>\n",
       "    </tr>\n",
       "    <tr>\n",
       "      <th>4</th>\n",
       "      <td>1</td>\n",
       "      <td>2</td>\n",
       "      <td>2</td>\n",
       "    </tr>\n",
       "    <tr>\n",
       "      <th>5</th>\n",
       "      <td>0</td>\n",
       "      <td>0</td>\n",
       "      <td>0</td>\n",
       "    </tr>\n",
       "  </tbody>\n",
       "</table>\n",
       "</div>"
      ],
      "text/plain": [
       "   Color  Size  Material\n",
       "0      2     2         2\n",
       "1      1     1         0\n",
       "2      0     0         1\n",
       "3      2     1         1\n",
       "4      1     2         2\n",
       "5      0     0         0"
      ]
     },
     "execution_count": 3,
     "metadata": {},
     "output_type": "execute_result"
    }
   ],
   "source": [
    "df['Color'] = lbl_encoder.fit_transform(df['Color'])\n",
    "df['Size'] = lbl_encoder.fit_transform(df['Size'])\n",
    "df['Material'] = lbl_encoder.fit_transform(df['Material'])\n",
    "df"
   ]
  },
  {
   "cell_type": "markdown",
   "id": "07e6ef43-f661-4414-8e92-fcb813a16da2",
   "metadata": {},
   "source": [
    "# Quetion : 5"
   ]
  },
  {
   "cell_type": "code",
   "execution_count": 6,
   "id": "9ce54d6a-71bc-4f52-976f-7828a0c8fb87",
   "metadata": {},
   "outputs": [
    {
     "name": "stdout",
     "output_type": "stream",
     "text": [
      "[[6.25e+01 1.25e+05 6.25e+00]\n",
      " [1.25e+05 2.50e+08 1.25e+04]\n",
      " [6.25e+00 1.25e+04 7.00e-01]]\n"
     ]
    }
   ],
   "source": [
    "import numpy as np\n",
    "data = np.array([[25, 50000, 3],\n",
    "                 [30, 60000, 4],\n",
    "                 [35, 70000, 4],\n",
    "                 [40, 80000, 5],\n",
    "                 [45, 90000, 5]])\n",
    "\n",
    "covariance_matrix = np.cov(data, rowvar=False)\n",
    "\n",
    "print(covariance_matrix)"
   ]
  },
  {
   "cell_type": "markdown",
   "id": "e8cc49a2-9f30-4418-8555-d6feae94bea0",
   "metadata": {},
   "source": [
    "# Quetion : 6"
   ]
  },
  {
   "cell_type": "markdown",
   "id": "07a96933-f5f7-4d10-8e49-4f95945434a5",
   "metadata": {},
   "source": [
    "For \"Gender\", we would use label encoding because there is no inherent order between Male and Female.\n",
    "\n",
    "For \"Education Level\", we would use ordinal encoding because there is a natural order between the different levels of education (i.e., PhD > Master's > Bachelor's > High School).\n",
    "\n",
    "For \"Employment Status\", we would also use ordinal encoding because there is a natural order between the different levels of employment (i.e., Full-Time > Part-Time > Unemployed)."
   ]
  },
  {
   "cell_type": "markdown",
   "id": "25a7b4a4-7fe8-430c-afd8-ca33b411d84a",
   "metadata": {},
   "source": [
    "# Quetion : 7"
   ]
  },
  {
   "cell_type": "code",
   "execution_count": null,
   "id": "29a060fe-c793-4c09-9b37-1d1e480698bd",
   "metadata": {},
   "outputs": [],
   "source": []
  }
 ],
 "metadata": {
  "kernelspec": {
   "display_name": "Python 3 (ipykernel)",
   "language": "python",
   "name": "python3"
  },
  "language_info": {
   "codemirror_mode": {
    "name": "ipython",
    "version": 3
   },
   "file_extension": ".py",
   "mimetype": "text/x-python",
   "name": "python",
   "nbconvert_exporter": "python",
   "pygments_lexer": "ipython3",
   "version": "3.10.8"
  }
 },
 "nbformat": 4,
 "nbformat_minor": 5
}
